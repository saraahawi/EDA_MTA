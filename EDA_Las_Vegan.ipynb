{
 "cells": [
  {
   "cell_type": "markdown",
   "metadata": {
    "id": "25e0dpcVGqR9"
   },
   "source": [
    "# 1) Importing necessary libraries"
   ]
  },
  {
   "cell_type": "code",
   "execution_count": null,
   "metadata": {
    "id": "LPT8oK5r19Kn"
   },
   "outputs": [],
   "source": [
    "import pandas as pd\n",
    "import numpy as np \n",
    "import datetime as dt\n",
    "import seaborn as sns\n",
    "import copy\n",
    "import matplotlib.pyplot as plt"
   ]
  },
  {
   "cell_type": "markdown",
   "metadata": {
    "id": "VdUoWGT52q1z"
   },
   "source": [
    "# 2) Importing + Concatenating Data From 3 months (12 weeks) Jul 2021 - Sep 2021"
   ]
  },
  {
   "cell_type": "code",
   "execution_count": null,
   "metadata": {
    "colab": {
     "base_uri": "https://localhost:8080/",
     "height": 424
    },
    "id": "h8rIxc1k64Yc",
    "outputId": "d1e2a57a-a668-46bd-ce55-d5e4964d81e4"
   },
   "outputs": [],
   "source": [
    "def get_data(week_nums):\n",
    "    url = \"http://web.mta.info/developers/data/nyct/turnstile/turnstile_{}.txt\"\n",
    "    dfs = []\n",
    "    for week_num in week_nums:\n",
    "        file_url = url.format(week_num)\n",
    "        dfs.append(pd.read_csv(file_url))\n",
    "    return pd.concat(dfs)\n",
    "        \n",
    "week_nums = [210703, 210710, 210717, 210731, 210807, 210814, 210821, 210828, 210904, 210911, 210918, 210925]\n",
    "df_raw = get_data(week_nums)\n",
    "df_raw"
   ]
  },
  {
   "cell_type": "code",
   "execution_count": null,
   "metadata": {
    "colab": {
     "base_uri": "https://localhost:8080/"
    },
    "id": "P3FJsM3Zbszs",
    "outputId": "9f81a1af-f25c-4d59-f9d2-39660ae7e830"
   },
   "outputs": [],
   "source": [
    "df_raw.DATE.value_counts().sort_index() "
   ]
  },
  {
   "cell_type": "markdown",
   "metadata": {
    "id": "dSCC-_HsXfs8"
   },
   "source": [
    "# 3) Converting date and time to datetime objects"
   ]
  },
  {
   "cell_type": "code",
   "execution_count": null,
   "metadata": {
    "colab": {
     "base_uri": "https://localhost:8080/",
     "height": 424
    },
    "id": "s9beaDdWZiyA",
    "outputId": "ac81e27c-c12f-470c-a27e-b0a5d2e2e303"
   },
   "outputs": [],
   "source": [
    "df_raw['DATE_TIME'] = pd.to_datetime(df_raw.DATE + ' ' + df_raw.TIME, format='%m/%d/%Y  %H:%M:%S')\n",
    "df_raw"
   ]
  },
  {
   "cell_type": "markdown",
   "metadata": {
    "id": "uaFnIkkHbRKP"
   },
   "source": [
    "# 4) Remove leading or trailing spaces from column names"
   ]
  },
  {
   "cell_type": "code",
   "execution_count": null,
   "metadata": {
    "colab": {
     "base_uri": "https://localhost:8080/"
    },
    "id": "Or0UprXvbRta",
    "outputId": "8e31e0c9-f365-42ec-f601-e9e700cb0cae"
   },
   "outputs": [],
   "source": [
    "df_raw.columns = [column.strip() for column in df_raw.columns]\n",
    "df_raw.columns"
   ]
  },
  {
   "cell_type": "markdown",
   "metadata": {
    "id": "_mgq2GXBaSwt"
   },
   "source": [
    "# 5) Dropping duplicate index entries"
   ]
  },
  {
   "cell_type": "code",
   "execution_count": null,
   "metadata": {
    "colab": {
     "base_uri": "https://localhost:8080/"
    },
    "id": "ViOodIkFg6mT",
    "outputId": "e136c594-b3c3-4ee8-8136-40f9b123d14f",
    "scrolled": true
   },
   "outputs": [],
   "source": [
    "df_raw = df_raw.loc[~df_raw.index.duplicated(), :]\n",
    "df_raw.index.is_unique"
   ]
  },
  {
   "cell_type": "markdown",
   "metadata": {
    "id": "spXgPmiDXHqA"
   },
   "source": [
    "# 6) Retrieving relevant columns for further handling"
   ]
  },
  {
   "cell_type": "code",
   "execution_count": null,
   "metadata": {
    "colab": {
     "base_uri": "https://localhost:8080/",
     "height": 424
    },
    "id": "nkANd-kUOwrG",
    "outputId": "4c73c14c-0a2a-4aa2-9584-2f10d1152740"
   },
   "outputs": [],
   "source": [
    "df = df_raw.copy(deep=True)\n",
    "df.drop(['C/A', 'UNIT', 'SCP', 'LINENAME', 'DIVISION', 'DESC'], axis=1, inplace= True)"
   ]
  },
  {
   "cell_type": "markdown",
   "metadata": {
    "id": "roANhUSzYDkR"
   },
   "source": [
    "# 7) Shifting values up to find the daily difference in **enteries** \n",
    "By subtracting total entries of each previous day from the next (current) day "
   ]
  },
  {
   "cell_type": "code",
   "execution_count": null,
   "metadata": {
    "colab": {
     "base_uri": "https://localhost:8080/",
     "height": 481
    },
    "id": "78WQE28eh4PS",
    "outputId": "9f34e771-e822-46d8-ac0f-2b447796adf3"
   },
   "outputs": [],
   "source": [
    "df[[\"PREV_DATE\", \"PREV_ENTRIES\"]] = (df.groupby([\"STATION\"])[\"DATE\", \"ENTRIES\"].apply(lambda grp: grp.shift(-1)))"
   ]
  },
  {
   "cell_type": "markdown",
   "metadata": {
    "id": "V4ityyAwXsBE"
   },
   "source": [
    "# 8) Subtracting values of **entries**, removing values associated with the turnstiles resetting + handling negative values after subtraction \n",
    "Negative values are obtained if the previous day has more entries than the next (current)"
   ]
  },
  {
   "cell_type": "code",
   "execution_count": null,
   "metadata": {
    "colab": {
     "base_uri": "https://localhost:8080/"
    },
    "id": "IxNab7l0hU3u",
    "outputId": "e4a12201-630f-4c51-9234-f268234084fd"
   },
   "outputs": [],
   "source": [
    "def get_daily_counts(row, max_counter):\n",
    "    counter = row[\"ENTRIES\"] - row[\"PREV_ENTRIES\"]\n",
    "    if counter < 0:\n",
    "        \n",
    "        counter = -counter\n",
    "    if counter > max_counter:\n",
    "        \n",
    "        print(row[\"ENTRIES\"], row[\"PREV_ENTRIES\"])\n",
    "        counter = min(row[\"ENTRIES\"], row[\"PREV_ENTRIES\"])\n",
    "    if counter > max_counter:\n",
    "        \n",
    "        return 0\n",
    "    return counter\n",
    "\n",
    "df[\"DAILY_ENTRIES\"] = df.apply(get_daily_counts, axis=1, max_counter=1000000)"
   ]
  },
  {
   "cell_type": "markdown",
   "metadata": {
    "id": "GPDaBiRhrTFx"
   },
   "source": [
    "# 9) Shifting values to find the daily difference in **exits**\n",
    "By subtracting total exits of each previous day from the next (current) day"
   ]
  },
  {
   "cell_type": "code",
   "execution_count": null,
   "metadata": {
    "colab": {
     "base_uri": "https://localhost:8080/",
     "height": 481
    },
    "id": "a8zy3zeNo_t_",
    "outputId": "ee277039-7ccc-4d97-f58b-0d8737b162a6"
   },
   "outputs": [],
   "source": [
    "df[[\"PREV_DATE\", \"PREV_EXITS\"]] = (df.groupby([\"STATION\"])[\"DATE\", \"EXITS\"].apply(lambda grp: grp.shift(-1)));"
   ]
  },
  {
   "cell_type": "markdown",
   "metadata": {
    "id": "n2h1yiols-mc"
   },
   "source": [
    "# 10) Subtracting values of **exits** and removing values associated with the turnstiles resetting + handling negative values\n",
    "Negative values are obtained if the previous day has more exits than the next (current)"
   ]
  },
  {
   "cell_type": "code",
   "execution_count": null,
   "metadata": {
    "colab": {
     "base_uri": "https://localhost:8080/"
    },
    "id": "9TyHdRZ_s97C",
    "outputId": "5ed507d9-0e96-4214-b38b-5aaca626b828"
   },
   "outputs": [],
   "source": [
    "def get_daily_counts(row, max_counter):\n",
    "    counter = row[\"EXITS\"] - row[\"PREV_EXITS\"]\n",
    "    if counter < 0:\n",
    "        \n",
    "        counter = -counter\n",
    "    if counter > max_counter:\n",
    "        \n",
    "        print(row[\"EXITS\"], row[\"PREV_EXITS\"])\n",
    "        counter = min(row[\"EXITS\"], row[\"PREV_EXITS\"])\n",
    "    if counter > max_counter:\n",
    "\n",
    "        return 0\n",
    "    return counter\n",
    "df[\"DAILY_EXITS\"] = df.apply(get_daily_counts, axis=1, max_counter=1000000)"
   ]
  },
  {
   "cell_type": "markdown",
   "metadata": {
    "id": "7IwG7Jj8tKLm"
   },
   "source": [
    "# 11) Dropping the last NaN row + unneeded columns (PREV_DATE, PREV_ENTRIES, PREV_EXITS)"
   ]
  },
  {
   "cell_type": "code",
   "execution_count": null,
   "metadata": {
    "colab": {
     "base_uri": "https://localhost:8080/",
     "height": 424
    },
    "id": "XPajc-PrrrZ1",
    "outputId": "290b65c5-c6ab-4a02-c9cf-4ffc9513c00b"
   },
   "outputs": [],
   "source": [
    "df.dropna(subset=[\"PREV_DATE\"], axis=0, inplace=True)\n",
    "df.drop([\"PREV_DATE\", \"PREV_ENTRIES\", \"PREV_EXITS\"],axis = 1 ,inplace = True)"
   ]
  },
  {
   "cell_type": "markdown",
   "metadata": {
    "id": "qa69nDW_sCIF"
   },
   "source": [
    "# 12) Get total activity for passengers"
   ]
  },
  {
   "cell_type": "code",
   "execution_count": null,
   "metadata": {
    "id": "FOqC3CMosJx-"
   },
   "outputs": [],
   "source": [
    "df[\"TOTAL_ACTIVITY\"] = df[\"DAILY_ENTRIES\"] + df[\"DAILY_EXITS\"]"
   ]
  },
  {
   "cell_type": "markdown",
   "metadata": {
    "id": "gejQPG6QUbY9"
   },
   "source": [
    "# 13) Deal with outliers in the dataset using boxplot approach"
   ]
  },
  {
   "cell_type": "code",
   "execution_count": null,
   "metadata": {
    "colab": {
     "base_uri": "https://localhost:8080/",
     "height": 355
    },
    "id": "6lxlxJ25U7J5",
    "outputId": "49b5dde9-6431-4627-a471-c681da534241"
   },
   "outputs": [],
   "source": [
    "sns.boxplot(df.TOTAL_ACTIVITY)"
   ]
  },
  {
   "cell_type": "code",
   "execution_count": null,
   "metadata": {
    "colab": {
     "base_uri": "https://localhost:8080/"
    },
    "id": "d9gRMxZKUj0h",
    "outputId": "54942e6e-2935-4261-b34a-8bc4dd7eae2c"
   },
   "outputs": [],
   "source": [
    "q1 = np.quantile(df.TOTAL_ACTIVITY, 0.25)\n",
    "q3 = np.quantile(df.TOTAL_ACTIVITY, 0.75)\n",
    "IQR = q3 - q1\n",
    "med = np.median(df.TOTAL_ACTIVITY)\n",
    "upper_bound = q3+(1.5*IQR)\n",
    "lower_bound = q1-(1.5*IQR)\n",
    "print(upper_bound,lower_bound)\n",
    "df = df[(df[\"TOTAL_ACTIVITY\"] < upper_bound) & (df[\"TOTAL_ACTIVITY\"] > lower_bound)]\n",
    "df.TOTAL_ACTIVITY.max()"
   ]
  },
  {
   "cell_type": "code",
   "execution_count": null,
   "metadata": {
    "scrolled": true
   },
   "outputs": [],
   "source": [
    "sns.boxplot(df.TOTAL_ACTIVITY)"
   ]
  },
  {
   "cell_type": "markdown",
   "metadata": {
    "id": "K2T6g_KttRI5"
   },
   "source": [
    "# 14) Create grouped dataframe to extract necessary information"
   ]
  },
  {
   "cell_type": "code",
   "execution_count": null,
   "metadata": {
    "colab": {
     "base_uri": "https://localhost:8080/",
     "height": 424
    },
    "id": "ioP8wQxH-AfM",
    "outputId": "873e7765-f6ff-4e9d-b6bb-053de66675f1",
    "scrolled": true
   },
   "outputs": [],
   "source": [
    "df_grouped = (df.groupby([\"STATION\",\"DATE_TIME\",\"DATE\"],as_index=False).TOTAL_ACTIVITY.sum())"
   ]
  },
  {
   "cell_type": "markdown",
   "metadata": {
    "id": "j5FAwPgB_Eq4"
   },
   "source": [
    "# 15) Get the top 3 stations in terms of activity in the span of Jul 2021 - Sep 2021"
   ]
  },
  {
   "cell_type": "code",
   "execution_count": null,
   "metadata": {
    "colab": {
     "base_uri": "https://localhost:8080/",
     "height": 143
    },
    "id": "7m3NqBWvtRfJ",
    "outputId": "4223cb4c-53fb-428c-8715-25509dc53e01",
    "scrolled": true
   },
   "outputs": [],
   "source": [
    "top_3 = df_grouped.groupby([\"STATION\"],as_index=False).TOTAL_ACTIVITY.sum().sort_values(by = 'TOTAL_ACTIVITY', ascending = False).head(3)\n",
    "top_3.set_index('STATION',inplace=True)"
   ]
  },
  {
   "cell_type": "code",
   "execution_count": null,
   "metadata": {},
   "outputs": [],
   "source": [
    "fig, ax = plt.subplots(figsize=(40, 20))\n",
    "top_3.sort_values(by = 'TOTAL_ACTIVITY').plot(kind='barh',color=(0.2, 0.2, 0.2, 0.2),edgecolor='black',ax=ax)\n",
    "\n",
    "ax.set_title('Top 3 Busiest Stations by Total Activity', fontsize=50)\n",
    "ax.set_xlabel('Total Activity', fontsize=40)\n",
    "ax.set_ylabel('Station', fontsize=40)\n",
    "\n",
    "for label in (ax.get_xticklabels() + ax.get_yticklabels()):\n",
    "\tlabel.set_fontsize(35)\n",
    "ax.legend().set_visible(False)"
   ]
  },
  {
   "cell_type": "markdown",
   "metadata": {
    "id": "DR7ZElmT9cVq"
   },
   "source": [
    "# 16) Display total activity for each station per date + time"
   ]
  },
  {
   "cell_type": "code",
   "execution_count": null,
   "metadata": {
    "colab": {
     "base_uri": "https://localhost:8080/",
     "height": 424
    },
    "id": "_gxA-YB7BJ9v",
    "outputId": "7db18432-72ed-4fe8-8412-a0798581c9c0"
   },
   "outputs": [],
   "source": [
    "df_grouped[(df_grouped[\"STATION\"] == '34 ST-PENN STA') | (df_grouped[\"STATION\"] == '23 ST') | (df_grouped[\"STATION\"] == 'FULTON ST')].groupby([\"STATION\",\"DATE_TIME\"], as_index=False).TOTAL_ACTIVITY.sum()\n",
    "top_station = df_grouped[(df_grouped[\"STATION\"] == '34 ST-PENN STA')]"
   ]
  },
  {
   "cell_type": "code",
   "execution_count": null,
   "metadata": {},
   "outputs": [],
   "source": [
    "top_station_stats = top_station[['DATE','TOTAL_ACTIVITY']]\n",
    "top_station_stats['DAY']= pd.to_datetime(top_station_stats['DATE']).dt.day_name()"
   ]
  },
  {
   "cell_type": "code",
   "execution_count": null,
   "metadata": {},
   "outputs": [],
   "source": [
    "weekdays= ['Monday','Tuesday','Wednesday','Thursday','Friday','Saturday','Sunday',]\n",
    "top_station_stats =top_station_stats.groupby(['DAY'],as_index=False) ['TOTAL_ACTIVITY'].sum()\n",
    "top_station_stats.index = pd.CategoricalIndex(top_station_stats['DAY'],categories=weekdays,ordered = True )\n",
    "top_station_stats= top_station_stats.sort_index().reset_index(drop=True)"
   ]
  },
  {
   "cell_type": "code",
   "execution_count": null,
   "metadata": {},
   "outputs": [],
   "source": [
    "fig, ax = plt.subplots(figsize=(10,8), facecolor='white')\n",
    "ax.bar(top_station_stats['DAY'], top_station_stats['TOTAL_ACTIVITY'],color = ['blue', 'blue', 'blue', 'blue', 'blue','lightblue','lightblue'])\n",
    "ax.set_xticks([x for x in range(0,7)])\n",
    "ax.set_xticklabels(top_station_stats['DAY']);\n",
    "ax.set_title('Total Activity by weekday for 34 ST-PENN STATION', fontsize=18)\n",
    "ax.set_xlabel('Weekday', fontsize=15)\n",
    "ax.set_ylabel('Total Activity', fontsize=15);"
   ]
  },
  {
   "cell_type": "code",
   "execution_count": null,
   "metadata": {},
   "outputs": [],
   "source": [
    "time_interval = '4H'\n",
    "top_1 = df[df['STATION'] == '34 ST-PENN STA']\n",
    "top_1 = top_1[['STATION', 'DATE_TIME', 'DATE','TIME','TOTAL_ACTIVITY']]\n",
    "top_1_grouped = top_1.groupby(['STATION', 'DATE_TIME'], as_index = False)['TOTAL_ACTIVITY'].sum()\n",
    "top_1_grouped = top_1_grouped.set_index('DATE_TIME').groupby(['STATION'])\n",
    "rounded_grouped = top_1_grouped.resample(time_interval, convention = 'end').sum()\n",
    "rounded_grouped = rounded_grouped.reset_index()"
   ]
  },
  {
   "cell_type": "code",
   "execution_count": null,
   "metadata": {},
   "outputs": [],
   "source": [
    "rounded_grouped['DAY'] = rounded_grouped['DATE_TIME'].dt.dayofweek\n",
    "rounded_grouped['TIME'] = rounded_grouped['DATE_TIME'].dt.time\n",
    "rounded_grouped = rounded_grouped.set_index(['DAY','TIME']).TOTAL_ACTIVITY.unstack(0)\n",
    "weekdays = {0:'Mon',1:'Tue',2:'Wed',3:'Thu',4:'Fri',5:'Sat',6:'Sun'}\n",
    "rounded_grouped.columns = [weekdays[c] for c in rounded_grouped.columns]"
   ]
  },
  {
   "cell_type": "code",
   "execution_count": null,
   "metadata": {},
   "outputs": [],
   "source": [
    "fig, ax = plt.subplots(figsize=(12, 8))\n",
    "ax.set(title='TOTAL ACTIVITY for 34 ST-PENN STATION' , xlabel='', ylabel='Time')\n",
    "sns.heatmap(rounded_grouped,ax=ax, cmap='Blues')\n",
    "plt.show()"
   ]
  }
 ],
 "metadata": {
  "colab": {
   "collapsed_sections": [
    "25e0dpcVGqR9",
    "VdUoWGT52q1z",
    "dSCC-_HsXfs8",
    "uaFnIkkHbRKP",
    "_mgq2GXBaSwt",
    "spXgPmiDXHqA",
    "roANhUSzYDkR",
    "V4ityyAwXsBE",
    "GPDaBiRhrTFx",
    "n2h1yiols-mc",
    "7IwG7Jj8tKLm",
    "qa69nDW_sCIF",
    "gejQPG6QUbY9",
    "K2T6g_KttRI5",
    "j5FAwPgB_Eq4"
   ],
   "name": "Copy of EDA_Las_Vegan.ipynb",
   "provenance": []
  },
  "kernelspec": {
   "display_name": "Python 3",
   "language": "python",
   "name": "python3"
  },
  "language_info": {
   "codemirror_mode": {
    "name": "ipython",
    "version": 3
   },
   "file_extension": ".py",
   "mimetype": "text/x-python",
   "name": "python",
   "nbconvert_exporter": "python",
   "pygments_lexer": "ipython3",
   "version": "3.8.8"
  }
 },
 "nbformat": 4,
 "nbformat_minor": 1
}
